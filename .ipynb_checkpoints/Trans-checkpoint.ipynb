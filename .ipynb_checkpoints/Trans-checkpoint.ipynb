version https://git-lfs.github.com/spec/v1
oid sha256:b727cc3ff1e2499ad40a380d45390884f013eeefe7bd802f66f21b4ec23f0a61
size 319
