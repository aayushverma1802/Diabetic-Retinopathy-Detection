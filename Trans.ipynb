version https://git-lfs.github.com/spec/v1
oid sha256:6c89b065db64539cb69c860ce58b52ca9544f6a928671c67c06e65a6f4ab039a
size 43711
