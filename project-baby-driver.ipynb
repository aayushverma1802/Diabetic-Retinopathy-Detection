version https://git-lfs.github.com/spec/v1
oid sha256:94c7fc51962f9057f5b56e479cace7dd3627c3c12549d6eff2347bc851c15067
size 486514
