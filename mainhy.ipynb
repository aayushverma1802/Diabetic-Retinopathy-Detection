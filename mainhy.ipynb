version https://git-lfs.github.com/spec/v1
oid sha256:dddaa4a6c27869426578b4a3fe1070ef6926245ea32888c9dca80337ceb04a67
size 2857975
